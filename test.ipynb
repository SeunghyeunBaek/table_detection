{
 "cells": [
  {
   "cell_type": "code",
   "execution_count": 1,
   "metadata": {},
   "outputs": [],
   "source": [
    "from PIL import Image\n",
    "from pytesseract import *\n",
    "import cv2"
   ]
  },
  {
   "cell_type": "code",
   "execution_count": 9,
   "metadata": {},
   "outputs": [],
   "source": [
    "import numpy as np\n",
    "import matplotlib.pyplot as plt"
   ]
  },
  {
   "cell_type": "code",
   "execution_count": 339,
   "metadata": {},
   "outputs": [],
   "source": [
    "filename = \"C:/image/item_list.jpg\"\n",
    "image = Image.open(filename)\n",
    "custom_oem_psm_config = r'--oem 1 --psm 3'\n",
    "coord = image_to_data(image, lang = 'kor', config=custom_oem_psm_config, output_type = Output.DICT)\n",
    "n_box = len(coord['level'])"
   ]
  },
  {
   "cell_type": "code",
   "execution_count": 453,
   "metadata": {},
   "outputs": [],
   "source": [
    "img = cv2.imread(filename, cv2.IMREAD_GRAYSCALE)"
   ]
  },
  {
   "cell_type": "code",
   "execution_count": 454,
   "metadata": {},
   "outputs": [],
   "source": [
    "ret, thr1 = cv2.threshold(img, 180, 255, cv2.THRESH_BINARY)\n",
    "thr1 = cv2.cvtColor(thr1, cv2.COLOR_BGR2RGB)\n",
    "thr1_pil = Image.fromarray(thr1)\n",
    "coord = image_to_data(thr1_pil, lang = 'kor', config=custom_oem_psm_config, output_type = Output.DICT)\n",
    "n_box = len(coord['level'])"
   ]
  },
  {
   "cell_type": "code",
   "execution_count": 266,
   "metadata": {},
   "outputs": [],
   "source": [
    "for i in range(n_box):\n",
    "    if coord['text'][i] != \"\":\n",
    "#        if coord['width'][i] <= 200:\n",
    "#            if coord['height'][i] <= 50:\n",
    "                (x, y, w, h) = (coord['left'][i], coord['top'][i], coord['width'][i], coord['height'][i])\n",
    "                cv2.rectangle(thr1, (x, y), (x + w, y + h), (255, 0, 0), 1)"
   ]
  },
  {
   "cell_type": "code",
   "execution_count": 384,
   "metadata": {},
   "outputs": [
    {
     "data": {
      "image/png": "[encoded data removed]",
      "text/plain": [
       "<Figure size 864x576 with 1 Axes>"
      ]
     },
     "metadata": {
      "needs_background": "light"
     },
     "output_type": "display_data"
    }
   ],
   "source": [
    "import matplotlib.pyplot as plt\n",
    "plt.figure(figsize=(12, 8))\n",
    "idx = [i for i in range(img.shape[1])]\n",
    "#row = thr1[30, :]\n",
    "row = thr1[30, : ]\n",
    "plt.plot(idx, list(row))\n",
    "plt.show()"
   ]
  },
  {
   "cell_type": "code",
   "execution_count": 385,
   "metadata": {},
   "outputs": [],
   "source": [
    "row_mean = list()\n",
    "for row in thr1:\n",
    "    row_mean.append(np.mean(row))"
   ]
  },
  {
   "cell_type": "code",
   "execution_count": 386,
   "metadata": {},
   "outputs": [],
   "source": [
    "idx = [i for i in range(len(row_mean))]\n",
    "row_mean_dict = dict(zip(idx, row_mean))"
   ]
  },
  {
   "cell_type": "code",
   "execution_count": 387,
   "metadata": {},
   "outputs": [],
   "source": [
    "sel_row = {i: v for i, v in row_mean_dict.items() if ((v >= 200) & (v <= 252))}"
   ]
  },
  {
   "cell_type": "code",
   "execution_count": 455,
   "metadata": {},
   "outputs": [
    {
     "data": {
      "text/plain": [
       "(600, 378, 3)"
      ]
     },
     "execution_count": 455,
     "metadata": {},
     "output_type": "execute_result"
    }
   ],
   "source": [
    "thr1.shape"
   ]
  },
  {
   "cell_type": "code",
   "execution_count": 389,
   "metadata": {},
   "outputs": [
    {
     "data": {
      "text/plain": [
       "dict_keys([17, 18, 19, 20, 21, 22, 23, 24, 25, 26, 27, 28, 29, 30, 31, 32, 33, 34, 35, 36, 37, 38, 39, 40, 41, 42, 127, 128, 129, 130, 131, 132, 133, 134, 135, 136, 137, 138, 139, 140, 141, 142, 143, 144, 145, 146, 147, 148, 149, 150, 151, 152, 165, 169, 182, 183, 184, 185, 186, 187, 188, 189, 190, 191, 192, 193, 194, 195, 196, 197, 198, 199, 200, 201, 202, 203, 204, 205, 206, 224, 237, 238, 239, 240, 241, 242, 243, 244, 245, 246, 247, 248, 249, 250, 251, 252, 253, 254, 255, 256, 257, 258, 259, 260, 261, 278, 291, 292, 293, 294, 295, 296, 297, 298, 299, 300, 301, 302, 303, 304, 305, 306, 307, 308, 309, 310, 311, 312, 313, 314, 315, 316, 318, 319, 320, 321, 322, 323, 324, 325, 326, 327, 328, 329, 333, 334, 335, 336, 337, 338, 339, 340, 341, 342, 343, 344, 345, 346, 347, 348, 349, 350, 351, 352, 353, 354, 355, 356, 357, 358, 359, 360, 361, 362, 363, 364, 365, 366, 367, 368, 369, 370, 372, 373, 374, 375, 376, 377, 378, 379, 380, 381, 382, 383, 388, 389, 390, 391, 392, 393, 394, 395, 396, 399, 400, 401, 402, 403, 404, 405, 406, 407, 408, 409, 410, 411, 412, 413, 414, 415, 416, 417, 418, 419, 420, 421, 422, 423, 424, 425, 431, 434, 435, 437, 441, 450, 451, 454, 455, 456, 457, 458, 459, 460, 461, 462, 463, 464, 465, 466, 467, 468, 469, 470, 471, 472, 473, 474, 475, 476, 477, 478, 479, 488, 489, 490, 491, 492, 496, 497, 498, 499, 500, 501, 502, 503, 504, 505, 506, 507, 508, 511, 512, 513, 514, 515, 516, 517, 518, 519, 520, 521, 522, 523, 525, 526, 527, 528, 529, 530, 531, 532, 533, 534, 535, 536, 537, 538, 539, 540, 541, 542, 543, 544, 545, 550, 551, 552, 553, 554, 555, 556, 557, 558, 559, 560, 561, 562, 563, 564, 565, 566, 567, 568, 569, 570, 571, 572, 573, 574, 575, 576, 577, 578, 579, 580, 581, 582, 583, 584, 585, 586, 587, 588, 589, 590, 591, 592, 593, 594, 595, 596, 597, 598, 599])"
      ]
     },
     "execution_count": 389,
     "metadata": {},
     "output_type": "execute_result"
    }
   ],
   "source": [
    "sel_row.keys()"
   ]
  },
  {
   "cell_type": "code",
   "execution_count": 456,
   "metadata": {},
   "outputs": [],
   "source": [
    "subimg = thr1[289:427, 0:377]"
   ]
  },
  {
   "cell_type": "code",
   "execution_count": 366,
   "metadata": {},
   "outputs": [
    {
     "data": {
      "text/plain": [
       "(138, 377, 3)"
      ]
     },
     "execution_count": 366,
     "metadata": {},
     "output_type": "execute_result"
    }
   ],
   "source": [
    "subimg.shape"
   ]
  },
  {
   "cell_type": "code",
   "execution_count": 399,
   "metadata": {},
   "outputs": [
    {
     "data": {
      "text/plain": [
       "dict_keys([84, 85, 86, 87, 89, 90, 91, 92, 93, 94, 95, 96, 97, 98, 99, 100, 101, 102, 103, 104, 105, 106, 115, 116, 122, 123, 124, 125, 126, 127, 128, 129, 130, 131, 132, 134, 135, 136, 137, 138, 142, 143, 144, 155, 156, 157, 158, 159, 160, 161, 162, 163, 164, 165, 166, 167, 168, 169, 170, 171, 174, 175, 176, 177, 181, 182, 217, 255, 256, 267, 268, 271, 276, 277, 278, 279, 280, 281, 282, 283, 284, 285, 286, 296, 297, 298, 299, 308, 309, 310, 311, 312, 313, 314, 315, 320, 324, 325, 326, 327, 330, 331, 332, 333, 334, 335, 336, 339])"
      ]
     },
     "execution_count": 399,
     "metadata": {},
     "output_type": "execute_result"
    }
   ],
   "source": [
    "col_mean_list = list()\n",
    "col_idx = [i for i in range(subimg.shape[1])]\n",
    "for i in col_idx:\n",
    "    col = subimg[:, i , :]\n",
    "    col_mean = np.mean(col)\n",
    "    col_mean_list.append(col_mean)\n",
    "    \n",
    "col_mean_dict = dict(zip(col_idx, col_mean_list))\n",
    "sel_col_dict = {i: v for i, v in col_mean_dict.items() if ((v >= 200) & (v <= 240))}\n",
    "sel_col_dict.keys()"
   ]
  },
  {
   "cell_type": "code",
   "execution_count": 499,
   "metadata": {},
   "outputs": [],
   "source": [
    "subimg1 = subimg[0:137, 82:186]"
   ]
  },
  {
   "cell_type": "code",
   "execution_count": 492,
   "metadata": {},
   "outputs": [
    {
     "data": {
      "text/plain": [
       "(137, 102, 3)"
      ]
     },
     "execution_count": 492,
     "metadata": {},
     "output_type": "execute_result"
    }
   ],
   "source": [
    "subimg1.shape"
   ]
  },
  {
   "cell_type": "code",
   "execution_count": 500,
   "metadata": {},
   "outputs": [],
   "source": [
    "subimg2 = subimg1[28:55, 0:104]"
   ]
  },
  {
   "cell_type": "code",
   "execution_count": 365,
   "metadata": {},
   "outputs": [
    {
     "data": {
      "text/plain": [
       "dict_keys([3, 4, 5, 6, 7, 8, 9, 10, 11, 12, 13, 14, 15, 16, 19, 20, 21, 22, 23, 24, 25, 26, 29, 30, 31, 32, 33, 34, 35, 36, 37, 38, 39, 40, 45, 46, 47, 48, 51, 52, 53, 54, 55, 58, 59, 60, 61, 62, 63, 64, 65, 66, 67, 68, 69, 70, 72, 73, 74, 75, 78, 79, 80, 81, 83, 84, 85, 86, 89, 90, 91, 92, 93, 94, 99, 100, 101, 102, 103, 104, 105, 106, 107, 109, 113, 114, 119, 120, 121, 123, 124, 125, 126, 132, 133, 134, 135])"
      ]
     },
     "execution_count": 365,
     "metadata": {},
     "output_type": "execute_result"
    }
   ],
   "source": [
    "sel_col.keys()"
   ]
  },
  {
   "cell_type": "code",
   "execution_count": 340,
   "metadata": {},
   "outputs": [],
   "source": [
    "coord = image_to_data(subimg, lang = 'kor', config=custom_oem_psm_config, output_type = Output.DICT)\n",
    "n_box = len(coord['level'])"
   ]
  },
  {
   "cell_type": "code",
   "execution_count": null,
   "metadata": {},
   "outputs": [],
   "source": []
  },
  {
   "cell_type": "code",
   "execution_count": 341,
   "metadata": {},
   "outputs": [],
   "source": [
    "for i in range(n_box):\n",
    "    if coord['text'][i] != \"\":\n",
    "#        if coord['width'][i] <= 200:\n",
    "#            if coord['height'][i] <= 50:\n",
    "                (x, y, w, h) = (coord['left'][i], coord['top'][i], coord['width'][i], coord['height'][i])\n",
    "                cv2.rectangle(subimg, (x, y), (x + w, y + h), (0, 0,255), 1)"
   ]
  },
  {
   "cell_type": "code",
   "execution_count": 501,
   "metadata": {},
   "outputs": [
    {
     "data": {
      "text/plain": [
       "<matplotlib.image.AxesImage at 0x2712063e390>"
      ]
     },
     "execution_count": 501,
     "metadata": {},
     "output_type": "execute_result"
    },
    {
     "data": {
      "image/png": "[encoded data removed]",
      "text/plain": [
       "<Figure size 360x360 with 1 Axes>"
      ]
     },
     "metadata": {
      "needs_background": "light"
     },
     "output_type": "display_data"
    }
   ],
   "source": [
    "plt.figure(figsize=(5, 5))\n",
    "plt.imshow(subimg2)"
   ]
  },
  {
   "cell_type": "code",
   "execution_count": 408,
   "metadata": {},
   "outputs": [
    {
     "data": {
      "text/plain": [
       "<matplotlib.image.AxesImage at 0x27126be2b38>"
      ]
     },
     "execution_count": 408,
     "metadata": {},
     "output_type": "execute_result"
    },
    {
     "data": {
      "image/png": "[encoded data removed]",
      "text/plain": [
       "<Figure size 720x720 with 1 Axes>"
      ]
     },
     "metadata": {
      "needs_background": "light"
     },
     "output_type": "display_data"
    }
   ],
   "source": [
    "plt.figure(figsize=(10, 10))\n",
    "plt.imshow(subimg1)"
   ]
  },
  {
   "cell_type": "code",
   "execution_count": 423,
   "metadata": {},
   "outputs": [],
   "source": [
    "subimg1_pil = cv2.cvtColor(subimg1, cv2.COLOR_BGR2RGB)\n",
    "subimg1_pil = Image.fromarray(subimg1_pil)\n",
    "coord = image_to_data(subimg1_pil, lang = 'kor', config=custom_oem_psm_config, output_type = Output.DICT)\n",
    "n_box = len(coord['level'])"
   ]
  },
  {
   "cell_type": "code",
   "execution_count": 489,
   "metadata": {},
   "outputs": [],
   "source": [
    "subimg2_pil = cv2.cvtColor(subimg2, cv2.COLOR_BGR2RGB)\n",
    "subimg2_pil = Image.fromarray(subimg2_pil)\n",
    "coord = image_to_data(subimg2_pil, lang = 'kor', config=custom_oem_psm_config, output_type = Output.DICT)\n",
    "n_box = len(coord['level'])"
   ]
  },
  {
   "cell_type": "code",
   "execution_count": 425,
   "metadata": {},
   "outputs": [],
   "source": [
    "for i in range(n_box):\n",
    "    if coord['text'][i] != \"\":\n",
    "#        if coord['width'][i] <= 200:\n",
    "#            if coord['height'][i] <= 50:\n",
    "                (x, y, w, h) = (coord['left'][i], coord['top'][i], coord['width'][i], coord['height'][i])\n",
    "                cv2.rectangle(subimg1, (x, y), (x + w, y + h), (255, 0, 0), 1)"
   ]
  },
  {
   "cell_type": "code",
   "execution_count": null,
   "metadata": {},
   "outputs": [],
   "source": []
  },
  {
   "cell_type": "code",
   "execution_count": 502,
   "metadata": {},
   "outputs": [
    {
     "name": "stdout",
     "output_type": "stream",
     "text": [
      "{'char': ['투', '약', '및'], 'left': [0, 30, 77], 'bottom': [1, 0, 0], 'right': [24, 100, 100], 'top': [26, 26, 29], 'page': [0, 0, 0]}\n"
     ]
    }
   ],
   "source": [
    "custom_oem_psm_config = r'--oem 3 --psm 7'\n",
    "print(image_to_boxes(subimg2_pil, lang = 'kor', config=custom_oem_psm_config, output_type = Output.DICT))"
   ]
  },
  {
   "cell_type": "code",
   "execution_count": 503,
   "metadata": {},
   "outputs": [
    {
     "data": {
      "text/plain": [
       "<matplotlib.image.AxesImage at 0x27124106fd0>"
      ]
     },
     "execution_count": 503,
     "metadata": {},
     "output_type": "execute_result"
    },
    {
     "data": {
      "image/png": "[encoded data removed]",
      "text/plain": [
       "<Figure size 720x720 with 1 Axes>"
      ]
     },
     "metadata": {
      "needs_background": "light"
     },
     "output_type": "display_data"
    }
   ],
   "source": [
    "plt.figure(figsize=(10, 10))\n",
    "plt.imshow(subimg2)"
   ]
  }
 ],
 "metadata": {
  "kernelspec": {
   "display_name": "table_dectection_venv",
   "language": "python",
   "name": "venv"
  },
  "language_info": {
   "codemirror_mode": {
    "name": "ipython",
    "version": 3
   },
   "file_extension": ".py",
   "mimetype": "text/x-python",
   "name": "python",
   "nbconvert_exporter": "python",
   "pygments_lexer": "ipython3",
   "version": "3.6.9"
  }
 },
 "nbformat": 4,
 "nbformat_minor": 2
}
